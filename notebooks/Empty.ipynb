{
  "cells": [
    {
      "cell_type": "markdown",
      "metadata": {},
      "source": [
        ""
      ]
    }
  ],
  "metadata": {
    "kernelspec": {
      "display_name": ".NET (F#)",
      "language": "F#",
      "name": ".net-fsharp"
    },
    "language_info": {
      "file_extension": ".cs",
      "mimetype": "text/x-fsharp",
      "name": "F#",
      "pygments_lexer": "fsharp",
      "version": "5.0"
    }
  },
  "nbformat": 4,
  "nbformat_minor": 4
}