{
  "cells": [
    {
      "cell_type": "markdown",
      "metadata": {},
      "source": [
        "Testing"
      ]
    },
    {
      "cell_type": "code",
      "execution_count": 1,
      "metadata": {
        "dotnet_interactive": {
          "language": "fsharp"
        }
      },
      "source": [
        "let x = 1\n",
        "x"
      ],
      "outputs": []
    }
  ],
  "metadata": {
    "kernelspec": {
      "display_name": ".NET (F#)",
      "language": "F#",
      "name": ".net-fsharp"
    },
    "language_info": {
      "file_extension": ".fs",
      "mimetype": "text/x-fsharp",
      "name": "F#",
      "pygments_lexer": "fsharp",
      "version": "8.0"
    }
  },
  "nbformat": 4,
  "nbformat_minor": 4
}